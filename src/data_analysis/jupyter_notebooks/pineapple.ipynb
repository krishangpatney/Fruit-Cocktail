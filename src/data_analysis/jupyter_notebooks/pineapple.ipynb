{
 "cells": [
  {
   "cell_type": "markdown",
   "metadata": {},
   "source": [
    "Pineapple - Robot Shop Pattern 1 "
   ]
  },
  {
   "cell_type": "code",
   "execution_count": 9,
   "metadata": {},
   "outputs": [],
   "source": [
    "# Required Imports \n",
    "import pandas as pd \n",
    "import numpy as np \n",
    "import os \n",
    "import matplotlib.pyplot as plt\n",
    "import json\n",
    "import datetime, time\n",
    "from datetime import datetime\n",
    "from matplotlib.dates import date2num\n",
    "from scipy.interpolate import make_interp_spline\n",
    "import seaborn as sns"
   ]
  },
  {
   "cell_type": "code",
   "execution_count": 2,
   "metadata": {},
   "outputs": [],
   "source": [
    "# https://stackoverflow.com/a/1879011/14626757\n",
    "# Returns a walked path under collected_data\n",
    "def f(starting_path):\n",
    "  alld = {'': {}}\n",
    "\n",
    "  for dirpath, dirnames, filenames in os.walk(starting_path):\n",
    "    d = alld\n",
    "    dirpath = dirpath[len(starting_path):]\n",
    "    for subd in dirpath.split(os.sep):\n",
    "      based = d\n",
    "      d = d[subd]\n",
    "    if dirnames:\n",
    "      for dn in dirnames:\n",
    "        d[dn] = {}\n",
    "    else:\n",
    "      based[subd] = filenames\n",
    "  return alld['']"
   ]
  },
  {
   "cell_type": "code",
   "execution_count": 3,
   "metadata": {},
   "outputs": [],
   "source": [
    "# standard code to convert data to a timestamp, metric list \n",
    "def convert_enddate_to_seconds(ts):\n",
    "    \"\"\"Takes ISO 8601 format(string) and converts into epoch time.\"\"\"\n",
    "    dt = datetime.datetime.strptime(ts[:-7],'%Y-%m-%dT%H:%M:%S')+\\\n",
    "                datetime.timedelta(hours=int(ts[-5:-3]),\n",
    "                minutes=int(ts[-2:]))*int(ts[-6:-5]+'1')\n",
    "    seconds = time.mktime(dt.timetuple()) + dt.microsecond/1000000.0\n",
    "    return seconds\n",
    "\n",
    "def convert_to_json(filename):\n",
    "    # Opening JSON file\n",
    "    f = open(filename)\n",
    "    \n",
    "    # returns JSON object as\n",
    "    # a dictionary\n",
    "    data = json.load(f)\n",
    "\n",
    "    # Closing file\n",
    "    f.close()\n",
    "    return data\n",
    "\n",
    "# returns 2 lists for average values, and timestamp\n",
    "def get_list(timeseries):\n",
    "    y = [val['average'] for val in timeseries]\n",
    "    x = [pd.to_datetime(convert_enddate_to_seconds(val['timeStamp']),unit='s') for val in timeseries]\n",
    "    return x,y\n",
    "\n",
    "# \n",
    "def return_time_metric(filename):\n",
    "    data = convert_to_json(filename)\n",
    "    timespan = data['timespan']\n",
    "    time_interval = data['interval']\n",
    "    value = data['value'][0]\n",
    "    name_of_graph = value['name']['value']\n",
    "    timeseries = value['timeseries'][0]['data']\n",
    "    x, y = get_list(timeseries)\n",
    "    return x,y\n",
    "\n",
    "def create_graph(x,y,):\n",
    "    # def clean_plot(data, metric):\n",
    "    fig = plt.figure()\n",
    "    ax = fig.add_subplot(1, 1, 1)\n",
    "    \n",
    "    ax.plot(x, y)   # 2021-12-31T18:36:00+00:00 2021-12-31T19:05:00+00:00\n"
   ]
  },
  {
   "cell_type": "code",
   "execution_count": 7,
   "metadata": {},
   "outputs": [],
   "source": [
    "# Generate file listings\n",
    "filepath = \"../collected_data/pineapple\"\n",
    "api      = os.path.join(filepath, \"api\")\n",
    "machine  = os.path.join(filepath, \"machine\")\n",
    "\n",
    "api_listing     = f(api)\n",
    "machine_listing = f(machine)"
   ]
  },
  {
   "cell_type": "code",
   "execution_count": 5,
   "metadata": {},
   "outputs": [
    {
     "name": "stderr",
     "output_type": "stream",
     "text": [
      "/home/krish/.local/lib/python3.8/site-packages/numpy/core/fromnumeric.py:3440: RuntimeWarning: Mean of empty slice.\n",
      "  return _methods._mean(a, axis=axis, dtype=dtype,\n",
      "/home/krish/.local/lib/python3.8/site-packages/numpy/core/_methods.py:189: RuntimeWarning: invalid value encountered in double_scalars\n",
      "  ret = ret.dtype.type(ret / rcount)\n"
     ]
    },
    {
     "data": {
      "image/png": "[encoded data removed]",
      "text/plain": [
       "<Figure size 792x504 with 1 Axes>"
      ]
     },
     "metadata": {
      "needs_background": "light"
     },
     "output_type": "display_data"
    }
   ],
   "source": [
    "big_machine = {}\n",
    "for size, iteration in machine_listing.items():\n",
    "    metrics   = []\n",
    "    timestamp = 0\n",
    "    for iteration, files in iteration.items(): \n",
    "        temp_path = os.path.join(machine, size, iteration)\n",
    "        timestamp, metric = return_time_metric(os.path.join(temp_path, \"percentageCPU.json\"))\n",
    "        metrics.append(metric)\n",
    "    tiny_machine = {}\n",
    "\n",
    "    for i in range(0, len(timestamp)):\n",
    "        metric_per_time = []\n",
    "        for n in metrics:\n",
    "            metric_per_time.append(n[i])\n",
    "        metric_per_time = [float(x) for x in metric_per_time if x != None]\n",
    "        tiny_machine[timestamp[i]] = np.mean(metric_per_time) #Change here to maintain value or not.\n",
    "    big_machine[size] = tiny_machine\n",
    "\n",
    "\n",
    "# Sort big_machine basedo n list \n",
    "machine_names = [\"Standard_A2_v2\",\"Standard_A4_v2\",\"Standard_A8_v2\",\"Standard_B12ms\",\"Standard_B16ms\"]\n",
    "ordered_dict = {}\n",
    "for item in machine_names:\n",
    "    ordered_dict[item] = big_machine[item]\n",
    "\n",
    "def do_this(machine_dict):\n",
    "    ranged = []\n",
    "    for key, value in machine_dict.items(): \n",
    "        ranged.append([x for x in list(value.values()) if str(x) != 'nan'])\n",
    "  \n",
    "    fig = plt.figure(figsize =(11, 7))\n",
    "    ax = fig.add_subplot(111)\n",
    "    plt.boxplot( ranged) \n",
    "    ax.set_xticklabels(list(machine_dict.keys()))\n",
    "    plt.ylim(0, 100)\n",
    "    plt.show()\n",
    "\n",
    "do_this(ordered_dict)"
   ]
  },
  {
   "cell_type": "code",
   "execution_count": 10,
   "metadata": {},
   "outputs": [
    {
     "ename": "KeyError",
     "evalue": "\"['99.999%'] not in index\"",
     "output_type": "error",
     "traceback": [
      "\u001b[0;31m---------------------------------------------------------------------------\u001b[0m",
      "\u001b[0;31mKeyError\u001b[0m                                  Traceback (most recent call last)",
      "\u001b[1;32m/home/krish/Desktop/a newer l4 project/Fruit-Cocktail/src/data_analysis/jupyter_notebooks/pineapple.ipynb Cell 7'\u001b[0m in \u001b[0;36m<module>\u001b[0;34m\u001b[0m\n\u001b[1;32m      <a href='vscode-notebook-cell:/home/krish/Desktop/a%20newer%20l4%20project/Fruit-Cocktail/src/data_analysis/jupyter_notebooks/pineapple.ipynb#ch0000005?line=8'>9</a>\u001b[0m df \u001b[39m=\u001b[39m pd\u001b[39m.\u001b[39mread_csv(os\u001b[39m.\u001b[39mpath\u001b[39m.\u001b[39mjoin(temp_path, file_name))\n\u001b[1;32m     <a href='vscode-notebook-cell:/home/krish/Desktop/a%20newer%20l4%20project/Fruit-Cocktail/src/data_analysis/jupyter_notebooks/pineapple.ipynb#ch0000005?line=9'>10</a>\u001b[0m df[\u001b[39m\"\u001b[39m\u001b[39mdatetime\u001b[39m\u001b[39m\"\u001b[39m] \u001b[39m=\u001b[39m df[\u001b[39m\"\u001b[39m\u001b[39mTimestamp\u001b[39m\u001b[39m\"\u001b[39m]\u001b[39m.\u001b[39mapply(\u001b[39mlambda\u001b[39;00m t: datetime\u001b[39m.\u001b[39mfromtimestamp(t))\n\u001b[0;32m---> <a href='vscode-notebook-cell:/home/krish/Desktop/a%20newer%20l4%20project/Fruit-Cocktail/src/data_analysis/jupyter_notebooks/pineapple.ipynb#ch0000005?line=10'>11</a>\u001b[0m \u001b[39mprint\u001b[39m( df[[\u001b[39m\"\u001b[39;49m\u001b[39m50\u001b[39;49m\u001b[39m%\u001b[39;49m\u001b[39m\"\u001b[39;49m,\u001b[39m\"\u001b[39;49m\u001b[39m66\u001b[39;49m\u001b[39m%\u001b[39;49m\u001b[39m\"\u001b[39;49m,\u001b[39m\"\u001b[39;49m\u001b[39m75\u001b[39;49m\u001b[39m%\u001b[39;49m\u001b[39m\"\u001b[39;49m,\u001b[39m\"\u001b[39;49m\u001b[39m80\u001b[39;49m\u001b[39m%\u001b[39;49m\u001b[39m\"\u001b[39;49m,\u001b[39m\"\u001b[39;49m\u001b[39m90\u001b[39;49m\u001b[39m%\u001b[39;49m\u001b[39m\"\u001b[39;49m,\u001b[39m\"\u001b[39;49m\u001b[39m95\u001b[39;49m\u001b[39m%\u001b[39;49m\u001b[39m\"\u001b[39;49m,\u001b[39m\"\u001b[39;49m\u001b[39m98\u001b[39;49m\u001b[39m%\u001b[39;49m\u001b[39m\"\u001b[39;49m,\u001b[39m\"\u001b[39;49m\u001b[39m99\u001b[39;49m\u001b[39m%\u001b[39;49m\u001b[39m\"\u001b[39;49m,\u001b[39m\"\u001b[39;49m\u001b[39m99.9\u001b[39;49m\u001b[39m%\u001b[39;49m\u001b[39m\"\u001b[39;49m,\u001b[39m\"\u001b[39;49m\u001b[39m99.99\u001b[39;49m\u001b[39m%\u001b[39;49m\u001b[39m\"\u001b[39;49m,\u001b[39m\"\u001b[39;49m\u001b[39m99.999\u001b[39;49m\u001b[39m%\u001b[39;49m\u001b[39m\"\u001b[39;49m,\u001b[39m\"\u001b[39;49m\u001b[39m100\u001b[39;49m\u001b[39m%\u001b[39;49m\u001b[39m\"\u001b[39;49m]])\n\u001b[1;32m     <a href='vscode-notebook-cell:/home/krish/Desktop/a%20newer%20l4%20project/Fruit-Cocktail/src/data_analysis/jupyter_notebooks/pineapple.ipynb#ch0000005?line=11'>12</a>\u001b[0m \u001b[39m# df_files[iteration] = df\u001b[39;00m\n\u001b[1;32m     <a href='vscode-notebook-cell:/home/krish/Desktop/a%20newer%20l4%20project/Fruit-Cocktail/src/data_analysis/jupyter_notebooks/pineapple.ipynb#ch0000005?line=12'>13</a>\u001b[0m df_list\u001b[39m.\u001b[39mappend(df)\n",
      "File \u001b[0;32m~/.local/lib/python3.8/site-packages/pandas/core/frame.py:3464\u001b[0m, in \u001b[0;36mDataFrame.__getitem__\u001b[0;34m(self, key)\u001b[0m\n\u001b[1;32m   <a href='file:///~/.local/lib/python3.8/site-packages/pandas/core/frame.py?line=3461'>3462</a>\u001b[0m     \u001b[39mif\u001b[39;00m is_iterator(key):\n\u001b[1;32m   <a href='file:///~/.local/lib/python3.8/site-packages/pandas/core/frame.py?line=3462'>3463</a>\u001b[0m         key \u001b[39m=\u001b[39m \u001b[39mlist\u001b[39m(key)\n\u001b[0;32m-> <a href='file:///~/.local/lib/python3.8/site-packages/pandas/core/frame.py?line=3463'>3464</a>\u001b[0m     indexer \u001b[39m=\u001b[39m \u001b[39mself\u001b[39;49m\u001b[39m.\u001b[39;49mloc\u001b[39m.\u001b[39;49m_get_listlike_indexer(key, axis\u001b[39m=\u001b[39;49m\u001b[39m1\u001b[39;49m)[\u001b[39m1\u001b[39m]\n\u001b[1;32m   <a href='file:///~/.local/lib/python3.8/site-packages/pandas/core/frame.py?line=3465'>3466</a>\u001b[0m \u001b[39m# take() does not accept boolean indexers\u001b[39;00m\n\u001b[1;32m   <a href='file:///~/.local/lib/python3.8/site-packages/pandas/core/frame.py?line=3466'>3467</a>\u001b[0m \u001b[39mif\u001b[39;00m \u001b[39mgetattr\u001b[39m(indexer, \u001b[39m\"\u001b[39m\u001b[39mdtype\u001b[39m\u001b[39m\"\u001b[39m, \u001b[39mNone\u001b[39;00m) \u001b[39m==\u001b[39m \u001b[39mbool\u001b[39m:\n",
      "File \u001b[0;32m~/.local/lib/python3.8/site-packages/pandas/core/indexing.py:1314\u001b[0m, in \u001b[0;36m_LocIndexer._get_listlike_indexer\u001b[0;34m(self, key, axis)\u001b[0m\n\u001b[1;32m   <a href='file:///~/.local/lib/python3.8/site-packages/pandas/core/indexing.py?line=1310'>1311</a>\u001b[0m \u001b[39melse\u001b[39;00m:\n\u001b[1;32m   <a href='file:///~/.local/lib/python3.8/site-packages/pandas/core/indexing.py?line=1311'>1312</a>\u001b[0m     keyarr, indexer, new_indexer \u001b[39m=\u001b[39m ax\u001b[39m.\u001b[39m_reindex_non_unique(keyarr)\n\u001b[0;32m-> <a href='file:///~/.local/lib/python3.8/site-packages/pandas/core/indexing.py?line=1313'>1314</a>\u001b[0m \u001b[39mself\u001b[39;49m\u001b[39m.\u001b[39;49m_validate_read_indexer(keyarr, indexer, axis)\n\u001b[1;32m   <a href='file:///~/.local/lib/python3.8/site-packages/pandas/core/indexing.py?line=1315'>1316</a>\u001b[0m \u001b[39mif\u001b[39;00m needs_i8_conversion(ax\u001b[39m.\u001b[39mdtype) \u001b[39mor\u001b[39;00m \u001b[39misinstance\u001b[39m(\n\u001b[1;32m   <a href='file:///~/.local/lib/python3.8/site-packages/pandas/core/indexing.py?line=1316'>1317</a>\u001b[0m     ax, (IntervalIndex, CategoricalIndex)\n\u001b[1;32m   <a href='file:///~/.local/lib/python3.8/site-packages/pandas/core/indexing.py?line=1317'>1318</a>\u001b[0m ):\n\u001b[1;32m   <a href='file:///~/.local/lib/python3.8/site-packages/pandas/core/indexing.py?line=1318'>1319</a>\u001b[0m     \u001b[39m# For CategoricalIndex take instead of reindex to preserve dtype.\u001b[39;00m\n\u001b[1;32m   <a href='file:///~/.local/lib/python3.8/site-packages/pandas/core/indexing.py?line=1319'>1320</a>\u001b[0m     \u001b[39m#  For IntervalIndex this is to map integers to the Intervals they match to.\u001b[39;00m\n\u001b[1;32m   <a href='file:///~/.local/lib/python3.8/site-packages/pandas/core/indexing.py?line=1320'>1321</a>\u001b[0m     keyarr \u001b[39m=\u001b[39m ax\u001b[39m.\u001b[39mtake(indexer)\n",
      "File \u001b[0;32m~/.local/lib/python3.8/site-packages/pandas/core/indexing.py:1377\u001b[0m, in \u001b[0;36m_LocIndexer._validate_read_indexer\u001b[0;34m(self, key, indexer, axis)\u001b[0m\n\u001b[1;32m   <a href='file:///~/.local/lib/python3.8/site-packages/pandas/core/indexing.py?line=1373'>1374</a>\u001b[0m     \u001b[39mraise\u001b[39;00m \u001b[39mKeyError\u001b[39;00m(\u001b[39mf\u001b[39m\u001b[39m\"\u001b[39m\u001b[39mNone of [\u001b[39m\u001b[39m{\u001b[39;00mkey\u001b[39m}\u001b[39;00m\u001b[39m] are in the [\u001b[39m\u001b[39m{\u001b[39;00maxis_name\u001b[39m}\u001b[39;00m\u001b[39m]\u001b[39m\u001b[39m\"\u001b[39m)\n\u001b[1;32m   <a href='file:///~/.local/lib/python3.8/site-packages/pandas/core/indexing.py?line=1375'>1376</a>\u001b[0m not_found \u001b[39m=\u001b[39m \u001b[39mlist\u001b[39m(ensure_index(key)[missing_mask\u001b[39m.\u001b[39mnonzero()[\u001b[39m0\u001b[39m]]\u001b[39m.\u001b[39munique())\n\u001b[0;32m-> <a href='file:///~/.local/lib/python3.8/site-packages/pandas/core/indexing.py?line=1376'>1377</a>\u001b[0m \u001b[39mraise\u001b[39;00m \u001b[39mKeyError\u001b[39;00m(\u001b[39mf\u001b[39m\u001b[39m\"\u001b[39m\u001b[39m{\u001b[39;00mnot_found\u001b[39m}\u001b[39;00m\u001b[39m not in index\u001b[39m\u001b[39m\"\u001b[39m)\n",
      "\u001b[0;31mKeyError\u001b[0m: \"['99.999%'] not in index\""
     ]
    }
   ],
   "source": [
    "\n",
    "big_api = {}\n",
    "# Get all values\n",
    "for size, iteration in api_listing.items():\n",
    "    # df_files = {} \n",
    "    df_list = list()\n",
    "    for iteration, files in iteration.items(): \n",
    "        temp_path = os.path.join(api, size, iteration)\n",
    "        file_name = \"load_stats_history.csv\"\n",
    "        df = pd.read_csv(os.path.join(temp_path, file_name))\n",
    "        df[\"datetime\"] = df[\"Timestamp\"].apply(lambda t: datetime.fromtimestamp(t))\n",
    "        print( df[[\"50%\",\"66%\",\"75%\",\"80%\",\"90%\",\"95%\",\"98%\",\"99%\",\"99.9%\",\"99.99%\",\"99.999%\",\"100%\"]])\n",
    "        # df_files[iteration] = df\n",
    "        df_list.append(df)\n",
    "        \n",
    "    big_api[size] =  df_list\n",
    "\n",
    "# average metrics\n",
    "for key, values in big_api.items():\n",
    "    convert_to_df = {}\n",
    "    for i in range(0, len(values)):\n",
    "        \n",
    "        timestamp =  values[i][\"Timestamp\"]\n",
    "        plt.plot(timestamp, values[i][\"Total Average Response Time\"]) \n",
    "        plt.title(key)\n",
    "        plt.xticks(rotation=45)\n",
    "    plt.show()\n",
    "\n",
    "\n"
   ]
  },
  {
   "cell_type": "code",
   "execution_count": null,
   "metadata": {},
   "outputs": [],
   "source": []
  }
 ],
 "metadata": {
  "interpreter": {
   "hash": "916dbcbb3f70747c44a77c7bcd40155683ae19c65e1c03b4aa3499c5328201f1"
  },
  "kernelspec": {
   "display_name": "Python 3.8.10 64-bit",
   "language": "python",
   "name": "python3"
  },
  "language_info": {
   "codemirror_mode": {
    "name": "ipython",
    "version": 3
   },
   "file_extension": ".py",
   "mimetype": "text/x-python",
   "name": "python",
   "nbconvert_exporter": "python",
   "pygments_lexer": "ipython3",
   "version": "3.8.10"
  },
  "orig_nbformat": 4
 },
 "nbformat": 4,
 "nbformat_minor": 2
}
