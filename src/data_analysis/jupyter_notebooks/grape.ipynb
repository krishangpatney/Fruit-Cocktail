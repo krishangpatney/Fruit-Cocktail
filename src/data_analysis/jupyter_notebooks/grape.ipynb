{
 "cells": [
  {
   "cell_type": "markdown",
   "metadata": {},
   "source": [
    "Pineapple - Robot Shop Pattern 1 "
   ]
  },
  {
   "cell_type": "code",
   "execution_count": 1,
   "metadata": {},
   "outputs": [],
   "source": [
    "# Required Imports \n",
    "import pandas as pd \n",
    "import numpy as np \n",
    "import os \n",
    "import matplotlib.pyplot as plt\n",
    "import json\n",
    "import datetime, time\n",
    "from matplotlib.dates import date2num\n",
    "from scipy.interpolate import make_interp_spline\n",
    "import seaborn as sns"
   ]
  },
  {
   "cell_type": "code",
   "execution_count": 2,
   "metadata": {},
   "outputs": [],
   "source": [
    "# https://stackoverflow.com/a/1879011/14626757\n",
    "# Returns a walked path under collected_data\n",
    "def f(starting_path):\n",
    "  alld = {'': {}}\n",
    "\n",
    "  for dirpath, dirnames, filenames in os.walk(starting_path):\n",
    "    d = alld\n",
    "    dirpath = dirpath[len(starting_path):]\n",
    "    for subd in dirpath.split(os.sep):\n",
    "      based = d\n",
    "      d = d[subd]\n",
    "    if dirnames:\n",
    "      for dn in dirnames:\n",
    "        d[dn] = {}\n",
    "    else:\n",
    "      based[subd] = filenames\n",
    "  return alld['']"
   ]
  },
  {
   "cell_type": "code",
   "execution_count": 26,
   "metadata": {},
   "outputs": [],
   "source": [
    "# standard code to convert data to a timestamp, metric list \n",
    "def convert_enddate_to_seconds(ts):\n",
    "    \"\"\"Takes ISO 8601 format(string) and converts into epoch time.\"\"\"\n",
    "    dt = datetime.datetime.strptime(ts[:-7],'%Y-%m-%dT%H:%M:%S')+\\\n",
    "                datetime.timedelta(hours=int(ts[-5:-3]),\n",
    "                minutes=int(ts[-2:]))*int(ts[-6:-5]+'1')\n",
    "    seconds = time.mktime(dt.timetuple()) + dt.microsecond/1000000.0\n",
    "    return seconds\n",
    "\n",
    "# returns 2 lists for average values, and timestamp\n",
    "def get_list(timeseries):\n",
    "    y = [val['average'] for val in timeseries]\n",
    "    x = [pd.to_datetime(convert_enddate_to_seconds(val['timeStamp']),unit='s') for val in timeseries]\n",
    "    return x,y\n",
    "\n",
    "# \n",
    "def return_time_metric(filename):\n",
    "    data = []\n",
    "    with open(filename) as f: \n",
    "        lines = f.readlines()\n",
    "        for l in lines:\n",
    "            # 2022-02-22 20:55:00+00:00: 11.32125\n",
    "            d,t,v = l.split()\n",
    "            data.append(float(v))\n",
    "    return data\n",
    "    # x, y = get_list(timeseries)\n",
    "    # return x,y\n",
    "\n",
    "def create_graph(x,y,):\n",
    "    # def clean_plot(data, metric):\n",
    "    fig = plt.figure()\n",
    "    ax = fig.add_subplot(1, 1, 1)\n",
    "    \n",
    "    ax.plot(x, y)   # 2021-12-31T18:36:00+00:00 2021-12-31T19:05:00+00:00\n"
   ]
  },
  {
   "cell_type": "code",
   "execution_count": 37,
   "metadata": {},
   "outputs": [
    {
     "data": {
      "image/png": "[encoded data removed]",
      "text/plain": [
       "<Figure size 792x504 with 1 Axes>"
      ]
     },
     "metadata": {
      "needs_background": "light"
     },
     "output_type": "display_data"
    }
   ],
   "source": [
    "filepath = \"../collected_data/grape\"\n",
    "api      = os.path.join(filepath, \"api\")\n",
    "machine  = os.path.join(filepath, \"machine\")\n",
    "\n",
    "api_listing     = f(api)\n",
    "machine_listing = f(machine)\n",
    "\n",
    "big_machine = {}\n",
    "# for size, iteration in machine_listing.items():\n",
    "#     metrics   = []\n",
    "#     timestamp = 0\n",
    "#     for iteration, files in iteration.items(): \n",
    "#         temp_path = os.path.join(machine, size, iteration)\n",
    "#         timestamp, metric = return_time_metric(os.path.join(temp_path, \"percentageCPU.txt\"))\n",
    "#         metrics.append(metric)\n",
    "#     tiny_machine = {}\n",
    "\n",
    "#     for i in range(0, len(timestamp)):\n",
    "#         metric_per_time = []\n",
    "#         for n in metrics:\n",
    "#             metric_per_time.append(n[i])\n",
    "#         metric_per_time = [float(x) for x in metric_per_time if x != None]\n",
    "#         tiny_machine[timestamp[i]] = np.mean(metric_per_time) #Change here to maintain value or not.\n",
    "#     big_machine[size] = tiny_machine\n",
    "\n",
    "for size, iteration in machine_listing.items():\n",
    "    metric   = []\n",
    "    timestamp = 0\n",
    "    for iteration, files in iteration.items(): \n",
    "        temp_path = os.path.join(machine, size, iteration)\n",
    "        metric = return_time_metric(os.path.join(temp_path, \"percentageCPU.txt\"))\n",
    "    fig = plt.figure(figsize =(11, 7))\n",
    "    ax = fig.add_subplot(111)\n",
    "    plt.boxplot(np.array(metric)) \n",
    "    plt.ylim(0, 100)\n",
    "    plt.show()\n",
    "\n",
    "# # Sort big_machine basedo n list \n",
    "# machine_names = [\"Standard_A2_v2\",\"Standard_A4_v2\",\"Standard_A8_v2\",\"Standard_B12ms\",\"Standard_B16ms\"]\n",
    "# ordered_dict = {}\n",
    "# for item in machine_names:\n",
    "#     ordered_dict[item] = big_machine[item]\n",
    "\n",
    "# def do_this(machine_dict):\n",
    "#     ranged = []\n",
    "#     for key, value in machine_dict.items(): \n",
    "#         ranged.append([x for x in list(value.values()) if str(x) != 'nan'])\n",
    "  \n",
    "#     fig = plt.figure(figsize =(11, 7))\n",
    "#     ax = fig.add_subplot(111)\n",
    "#     plt.boxplot( ranged) \n",
    "#     ax.set_xticklabels(list(machine_dict.keys()))\n",
    "#     plt.ylim(0, 100)\n",
    "#     plt.show()\n",
    "\n",
    "# do_this(ordered_dict)"
   ]
  },
  {
   "cell_type": "code",
   "execution_count": 29,
   "metadata": {},
   "outputs": [
    {
     "ename": "AttributeError",
     "evalue": "'list' object has no attribute 'items'",
     "output_type": "error",
     "traceback": [
      "\u001b[0;31m---------------------------------------------------------------------------\u001b[0m",
      "\u001b[0;31mAttributeError\u001b[0m                            Traceback (most recent call last)",
      "\u001b[1;32m/home/krish/Desktop/new l4 files/Fruit-Cocktail/src/data_analysis/jupyter_notebooks/lime.ipynb Cell 6'\u001b[0m in \u001b[0;36m<module>\u001b[0;34m\u001b[0m\n\u001b[1;32m      <a href='vscode-notebook-cell:/home/krish/Desktop/new%20l4%20files/Fruit-Cocktail/src/data_analysis/jupyter_notebooks/lime.ipynb#ch0000005?line=0'>1</a>\u001b[0m big_api \u001b[39m=\u001b[39m {}\n\u001b[1;32m      <a href='vscode-notebook-cell:/home/krish/Desktop/new%20l4%20files/Fruit-Cocktail/src/data_analysis/jupyter_notebooks/lime.ipynb#ch0000005?line=1'>2</a>\u001b[0m \u001b[39m# Get all values\u001b[39;00m\n\u001b[0;32m----> <a href='vscode-notebook-cell:/home/krish/Desktop/new%20l4%20files/Fruit-Cocktail/src/data_analysis/jupyter_notebooks/lime.ipynb#ch0000005?line=2'>3</a>\u001b[0m \u001b[39mfor\u001b[39;00m size, iteration \u001b[39min\u001b[39;00m api_listing\u001b[39m.\u001b[39;49mitems():\n\u001b[1;32m      <a href='vscode-notebook-cell:/home/krish/Desktop/new%20l4%20files/Fruit-Cocktail/src/data_analysis/jupyter_notebooks/lime.ipynb#ch0000005?line=3'>4</a>\u001b[0m     \u001b[39m# df_files = {} \u001b[39;00m\n\u001b[1;32m      <a href='vscode-notebook-cell:/home/krish/Desktop/new%20l4%20files/Fruit-Cocktail/src/data_analysis/jupyter_notebooks/lime.ipynb#ch0000005?line=4'>5</a>\u001b[0m     df_list \u001b[39m=\u001b[39m \u001b[39mlist\u001b[39m()\n\u001b[1;32m      <a href='vscode-notebook-cell:/home/krish/Desktop/new%20l4%20files/Fruit-Cocktail/src/data_analysis/jupyter_notebooks/lime.ipynb#ch0000005?line=5'>6</a>\u001b[0m     \u001b[39mfor\u001b[39;00m iteration, files \u001b[39min\u001b[39;00m iteration\u001b[39m.\u001b[39mitems(): \n",
      "\u001b[0;31mAttributeError\u001b[0m: 'list' object has no attribute 'items'"
     ]
    }
   ],
   "source": [
    "big_api = {}\n",
    "# Get all values\n",
    "for size, iteration in api_listing.items():\n",
    "    # df_files = {} \n",
    "    df_list = list()\n",
    "    for iteration, files in iteration.items(): \n",
    "        temp_path = os.path.join(api, size, iteration)\n",
    "        file_name = \"load_stats_history.csv\"\n",
    "        df = pd.read_csv(os.path.join(temp_path, file_name))\n",
    "        df['Timestamp']= pd.to_datetime(df['Timestamp'] ,unit='s')\n",
    "        # df_files[iteration] = df\n",
    "        df_list.append(df)\n",
    "        \n",
    "    big_api[size] =  df_list\n",
    "\n",
    "# average metrics\n",
    "for key, values in big_api.items():\n",
    "    convert_to_df = {}\n",
    "    for i in range(0, len(values)):\n",
    "        \n",
    "        timestamp =  values[i][\"Timestamp\"]\n",
    "        plt.plot(timestamp, values[i][\"Total Average Response Time\"]) \n",
    "        plt.title(key)\n",
    "        plt.xticks(rotation=45)\n",
    "    plt.show()\n",
    "\n",
    "\n"
   ]
  },
  {
   "cell_type": "code",
   "execution_count": null,
   "metadata": {},
   "outputs": [],
   "source": []
  }
 ],
 "metadata": {
  "interpreter": {
   "hash": "916dbcbb3f70747c44a77c7bcd40155683ae19c65e1c03b4aa3499c5328201f1"
  },
  "kernelspec": {
   "display_name": "Python 3.8.10 64-bit",
   "language": "python",
   "name": "python3"
  },
  "language_info": {
   "codemirror_mode": {
    "name": "ipython",
    "version": 3
   },
   "file_extension": ".py",
   "mimetype": "text/x-python",
   "name": "python",
   "nbconvert_exporter": "python",
   "pygments_lexer": "ipython3",
   "version": "3.8.10"
  },
  "orig_nbformat": 4
 },
 "nbformat": 4,
 "nbformat_minor": 2
}
