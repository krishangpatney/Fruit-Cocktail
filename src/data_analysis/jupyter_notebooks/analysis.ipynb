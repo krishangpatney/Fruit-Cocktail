{
 "cells": [
  {
   "cell_type": "markdown",
   "id": "ffd2962f",
   "metadata": {},
   "source": [
    "# Fruit Cocktail - Data Analysis \n",
    "\n",
    "This notebook hosts various analytic data for different patterns and applications. \n"
   ]
  },
  {
   "cell_type": "code",
   "execution_count": null,
   "id": "f9464f76",
   "metadata": {},
   "outputs": [],
   "source": [
    "# Required Imports \n",
    "import pandas as pd \n",
    "import numpy as np \n",
    "import os \n",
    "import matplotlib.pyplot as plt\n",
    "import json\n",
    "import datetime, time\n",
    "from matplotlib.dates import date2num\n"
   ]
  },
  {
   "cell_type": "markdown",
   "id": "c143946f",
   "metadata": {},
   "source": [
    "This section hosts utility code."
   ]
  },
  {
   "cell_type": "code",
   "execution_count": null,
   "id": "432c8cd2",
   "metadata": {},
   "outputs": [],
   "source": [
    "def convert_enddate_to_seconds(ts):\n",
    "    \"\"\"Takes ISO 8601 format(string) and converts into epoch time.\"\"\"\n",
    "    dt = datetime.datetime.strptime(ts[:-7],'%Y-%m-%dT%H:%M:%S')+\\\n",
    "                datetime.timedelta(hours=int(ts[-5:-3]),\n",
    "                minutes=int(ts[-2:]))*int(ts[-6:-5]+'1')\n",
    "    seconds = time.mktime(dt.timetuple()) + dt.microsecond/1000000.0\n",
    "    return seconds"
   ]
  },
  {
   "cell_type": "code",
   "execution_count": null,
   "id": "c44b76cc",
   "metadata": {},
   "outputs": [],
   "source": [
    "def get_start_end(dataframe):\n",
    "    start = dataframe.iloc[0]\n",
    "    end = dataframe.iloc[-1]\n",
    "    return start, end "
   ]
  },
  {
   "cell_type": "code",
   "execution_count": null,
   "id": "e6ba6589",
   "metadata": {},
   "outputs": [],
   "source": [
    "\n",
    "def create_graph(x,y, time_interval, name_of_graph, start, end):\n",
    "    # def clean_plot(data, metric):\n",
    "    fig = plt.figure()\n",
    "    ax = fig.add_subplot(1, 1, 1)\n",
    "    \n",
    "    ax.plot(x, y)   # 2021-12-31T18:36:00+00:00 2021-12-31T19:05:00+00:00\n",
    "    ax.axvspan(pd.to_datetime(start,unit='s'), \n",
    "               pd.to_datetime(end,unit='s'),\n",
    "               color=\"green\", alpha=0.3)\n",
    "\n",
    "\n",
    "def convert_to_json(filename):\n",
    "    # Opening JSON file\n",
    "    f = open(filename)\n",
    "    \n",
    "    # returns JSON object as\n",
    "    # a dictionary\n",
    "    data = json.load(f)\n",
    "\n",
    "    # Closing file\n",
    "    f.close()\n",
    "    return data\n",
    "\n",
    "# returns 2 lists for average values, and timestamp\n",
    "def get_list(timeseries):\n",
    "    y = [val['average'] for val in timeseries]\n",
    "    x = [pd.to_datetime(convert_enddate_to_seconds(val['timeStamp']),unit='s') for val in timeseries]\n",
    "    return x,y\n",
    "\n",
    "# \n",
    "def virtual_machine(filename, start, end):\n",
    "    data = convert_to_json(filename)\n",
    "    timespan = data['timespan']\n",
    "    time_interval = data['interval']\n",
    "    value = data['value'][0]\n",
    "    name_of_graph = value['name']['value']\n",
    "    timeseries = value['timeseries'][0]['data']\n",
    "    x, y = get_list(timeseries)\n",
    "    create_graph(x,y, time_interval, name_of_graph, start, end)\n",
    "\n"
   ]
  },
  {
   "cell_type": "markdown",
   "id": "b841291d",
   "metadata": {},
   "source": [
    "### Pineapple \n",
    "\n",
    "This section hosts data analatics part for Pattern 1 using Robot Shop as it's sample application. "
   ]
  },
  {
   "cell_type": "code",
   "execution_count": null,
   "id": "350489af",
   "metadata": {},
   "outputs": [
    {
     "data": {
      "text/plain": [
       "['.\\\\pineapple\\\\API', '.\\\\pineapple\\\\junk', '.\\\\pineapple\\\\VM']"
      ]
     },
     "execution_count": 120,
     "metadata": {},
     "output_type": "execute_result"
    }
   ],
   "source": [
    "# Import Data here \n",
    "root_directory = \".\\pineapple\"\n",
    "directories = [name.path for name in os.scandir(root_directory) if it.is_dir()]\n",
    "directories"
   ]
  },
  {
   "cell_type": "code",
   "execution_count": null,
   "id": "21b5e2c4",
   "metadata": {},
   "outputs": [],
   "source": [
    "# Standard_A1_v2\n",
    "root_API = \".\\pineapple\\API\\Standard_A1_v2\"\n",
    "root_VM  = \".\\pineapple\\VM\\Standard_A1_v2\"\n",
    "\n",
    "# Set 1 \n",
    "# set_1_API\n",
    "# set_2_VM\n"
   ]
  },
  {
   "cell_type": "code",
   "execution_count": null,
   "id": "b2ece50e",
   "metadata": {},
   "outputs": [],
   "source": [
    "# Set 2 "
   ]
  },
  {
   "cell_type": "code",
   "execution_count": null,
   "id": "9a9c9e45",
   "metadata": {},
   "outputs": [],
   "source": [
    "# Set 3 "
   ]
  },
  {
   "cell_type": "code",
   "execution_count": null,
   "id": "064fd636",
   "metadata": {},
   "outputs": [],
   "source": [
    "# Set 4"
   ]
  },
  {
   "cell_type": "code",
   "execution_count": null,
   "id": "4c6b3022",
   "metadata": {},
   "outputs": [],
   "source": [
    "# Set 5"
   ]
  },
  {
   "cell_type": "code",
   "execution_count": null,
   "id": "4470ccf5",
   "metadata": {},
   "outputs": [],
   "source": []
  },
  {
   "cell_type": "code",
   "execution_count": null,
   "id": "26bcda4a",
   "metadata": {},
   "outputs": [
    {
     "data": {
      "image/png": "[encoded data removed]",
      "text/plain": [
       "<Figure size 432x288 with 1 Axes>"
      ]
     },
     "metadata": {
      "needs_background": "light"
     },
     "output_type": "display_data"
    }
   ],
   "source": [
    "v = 5\n",
    "machine_type = \"Standard_A4m_v2\"\n",
    "# API Metrics\n",
    "test = f\"./pineapple/API/{machine_type}/{v}/{machine_type}_load_stats_history.csv\"\n",
    "df = pd.read_csv(test)\n",
    "start, end = get_start_end(df['Timestamp'])\n",
    "df['Timestamp']= pd.to_datetime(df['Timestamp'] ,unit='s')\n",
    "\n",
    "plt.plot(df[\"Timestamp\"], df[\"Total Average Response Time\"])\n",
    "plt.show() "
   ]
  },
  {
   "cell_type": "code",
   "execution_count": null,
   "id": "f5304eed",
   "metadata": {},
   "outputs": [
    {
     "data": {
      "image/png": "[encoded data removed]",
      "text/plain": [
       "<Figure size 432x288 with 1 Axes>"
      ]
     },
     "metadata": {
      "needs_background": "light"
     },
     "output_type": "display_data"
    }
   ],
   "source": [
    "plt.plot(df[\"Timestamp\"], df[\"User Count\"])\n",
    "plt.show()"
   ]
  },
  {
   "cell_type": "code",
   "execution_count": null,
   "id": "dff51849",
   "metadata": {},
   "outputs": [
    {
     "data": {
      "image/png": "[encoded data removed]",
      "text/plain": [
       "<Figure size 432x288 with 1 Axes>"
      ]
     },
     "metadata": {
      "needs_background": "light"
     },
     "output_type": "display_data"
    }
   ],
   "source": [
    "# VM Metrics \n",
    "test_VM = f\"./pineapple/VM/{machine_type}/{v}/percentageCPU_{v}.json\"\n",
    "\n",
    "virtual_machine(test_VM, start, end)"
   ]
  },
  {
   "cell_type": "code",
   "execution_count": null,
   "id": "afb29e17",
   "metadata": {},
   "outputs": [],
   "source": []
  },
  {
   "cell_type": "code",
   "execution_count": null,
   "id": "8d994933",
   "metadata": {},
   "outputs": [],
   "source": []
  },
  {
   "cell_type": "code",
   "execution_count": null,
   "id": "021c1c6e",
   "metadata": {},
   "outputs": [],
   "source": []
  }
 ],
 "metadata": {
  "kernelspec": {
   "display_name": "Python 3 (ipykernel)",
   "language": "python",
   "name": "python3"
  },
  "language_info": {
   "codemirror_mode": {
    "name": "ipython",
    "version": 3
   },
   "file_extension": ".py",
   "mimetype": "text/x-python",
   "name": "python",
   "nbconvert_exporter": "python",
   "pygments_lexer": "ipython3",
   "version": "3.8.10"
  }
 },
 "nbformat": 4,
 "nbformat_minor": 5
}
